{
 "cells": [
  {
   "cell_type": "code",
   "execution_count": 2,
   "id": "db8e91d9",
   "metadata": {},
   "outputs": [],
   "source": [
    "import torch"
   ]
  },
  {
   "cell_type": "markdown",
   "id": "d4e437e0",
   "metadata": {},
   "source": [
    "## 数据类型"
   ]
  },
  {
   "cell_type": "code",
   "execution_count": 6,
   "id": "a36692ac",
   "metadata": {},
   "outputs": [
    {
     "name": "stdout",
     "output_type": "stream",
     "text": [
      "torch.FloatTensor\n",
      "<class 'torch.Tensor'>\n",
      "True\n"
     ]
    }
   ],
   "source": [
    "# 类型\n",
    "a = torch.randn(2, 3)  # shape is [2, 3]\n",
    "\n",
    "print(a.type())\n",
    "print(type(a))\n",
    "print(isinstance(a, torch.FloatTensor))"
   ]
  },
  {
   "cell_type": "code",
   "execution_count": 7,
   "id": "934dfef3",
   "metadata": {},
   "outputs": [
    {
     "name": "stdout",
     "output_type": "stream",
     "text": [
      "False\n",
      "True\n"
     ]
    }
   ],
   "source": [
    "print(isinstance(a, torch.cuda.FloatTensor))  # 数据是 cpu 类型的\n",
    "\n",
    "a = a.cuda()  # 把数据变为 gpu 类型\n",
    "print(isinstance(a, torch.cuda.FloatTensor))"
   ]
  },
  {
   "cell_type": "markdown",
   "id": "9d8265ae",
   "metadata": {},
   "source": [
    "### 标量"
   ]
  },
  {
   "cell_type": "code",
   "execution_count": 8,
   "id": "198ceeca",
   "metadata": {},
   "outputs": [
    {
     "name": "stdout",
     "output_type": "stream",
     "text": [
      "tensor(1)\n",
      "tensor(1.3000)\n"
     ]
    }
   ],
   "source": [
    "a = torch.tensor(1)\n",
    "print(a)\n",
    "\n",
    "b = torch.tensor(1.300)\n",
    "print(b)"
   ]
  },
  {
   "cell_type": "markdown",
   "id": "68a01605",
   "metadata": {},
   "source": [
    "### 看 dim\n",
    "dim 和 shape 的区别：一个 [2, 3] 的 tensor，它的 shape 是 (2, 3)，它的 dim 是 2."
   ]
  },
  {
   "cell_type": "code",
   "execution_count": 12,
   "id": "6c51157b",
   "metadata": {},
   "outputs": [
    {
     "data": {
      "text/plain": [
       "(torch.Size([]), 0, torch.Size([]))"
      ]
     },
     "execution_count": 12,
     "metadata": {},
     "output_type": "execute_result"
    }
   ],
   "source": [
    "a = torch.tensor(2.5)\n",
    "a.shape, len(a.shape), a.size()"
   ]
  },
  {
   "cell_type": "code",
   "execution_count": 13,
   "id": "0e195bb2",
   "metadata": {},
   "outputs": [
    {
     "data": {
      "text/plain": [
       "(torch.Size([2, 3]), 2, torch.Size([2, 3]))"
      ]
     },
     "execution_count": 13,
     "metadata": {},
     "output_type": "execute_result"
    }
   ],
   "source": [
    "a = torch.randn(2, 3)\n",
    "a.shape, len(a.shape), a.size()"
   ]
  },
  {
   "cell_type": "code",
   "execution_count": 15,
   "id": "63ccd270",
   "metadata": {},
   "outputs": [
    {
     "data": {
      "text/plain": [
       "(tensor([2.3000, 1.0000]), torch.Size([2]), 1, torch.Size([2]))"
      ]
     },
     "execution_count": 15,
     "metadata": {},
     "output_type": "execute_result"
    }
   ],
   "source": [
    "a = torch.tensor([2.3, 1.])\n",
    "a, a.shape, len(a.shape), a.size()"
   ]
  },
  {
   "cell_type": "code",
   "execution_count": 17,
   "id": "63d8a302",
   "metadata": {},
   "outputs": [
    {
     "data": {
      "text/plain": [
       "(tensor([1.]), tensor([2., 3.]))"
      ]
     },
     "execution_count": 17,
     "metadata": {},
     "output_type": "execute_result"
    }
   ],
   "source": [
    "b = torch.FloatTensor([1])\n",
    "c = torch.FloatTensor([2, 3])\n",
    "\n",
    "b, c"
   ]
  },
  {
   "cell_type": "code",
   "execution_count": 18,
   "id": "2dcb137c",
   "metadata": {},
   "outputs": [
    {
     "data": {
      "text/plain": [
       "(array([1., 1.]), tensor([1., 1.], dtype=torch.float64))"
      ]
     },
     "execution_count": 18,
     "metadata": {},
     "output_type": "execute_result"
    }
   ],
   "source": [
    "import numpy as np\n",
    "\n",
    "data = np.ones(2)\n",
    "\n",
    "a = torch.from_numpy(data)\n",
    "\n",
    "data, a"
   ]
  },
  {
   "cell_type": "code",
   "execution_count": 19,
   "id": "a2e15678",
   "metadata": {},
   "outputs": [
    {
     "data": {
      "text/plain": [
       "tensor([1., 1.])"
      ]
     },
     "execution_count": 19,
     "metadata": {},
     "output_type": "execute_result"
    }
   ],
   "source": [
    "a = torch.ones(2)\n",
    "a"
   ]
  },
  {
   "cell_type": "code",
   "execution_count": 20,
   "id": "9daa1ed5",
   "metadata": {},
   "outputs": [
    {
     "data": {
      "text/plain": [
       "tensor([0., 0.])"
      ]
     },
     "execution_count": 20,
     "metadata": {},
     "output_type": "execute_result"
    }
   ],
   "source": [
    "a = torch.zeros(2)\n",
    "a"
   ]
  },
  {
   "cell_type": "code",
   "execution_count": 22,
   "id": "0a5fb377",
   "metadata": {},
   "outputs": [
    {
     "data": {
      "text/plain": [
       "(tensor([[0.8822, 0.4626, 0.6545],\n",
       "         [0.8265, 0.5604, 0.1371]]),\n",
       " 2,\n",
       " 3,\n",
       " 2,\n",
       " 3)"
      ]
     },
     "execution_count": 22,
     "metadata": {},
     "output_type": "execute_result"
    }
   ],
   "source": [
    "# shape 和 size 都可以索引\n",
    "a = torch.rand([2, 3])  # rand 和 randn，随机均匀分布，和随机正态分布\n",
    "\n",
    "a, a.shape[0], a.shape[1], a.size(0), a.size(1)"
   ]
  },
  {
   "cell_type": "code",
   "execution_count": 23,
   "id": "7d40870e",
   "metadata": {},
   "outputs": [
    {
     "data": {
      "text/plain": [
       "[2, 3, 4]"
      ]
     },
     "execution_count": 23,
     "metadata": {},
     "output_type": "execute_result"
    }
   ],
   "source": [
    "# list 可以直接返回一个 list\n",
    "\n",
    "a = torch.randn([2, 3, 4])\n",
    "list(a.shape)"
   ]
  },
  {
   "cell_type": "markdown",
   "id": "4a4c4ab4",
   "metadata": {},
   "source": [
    "### 得到 tensor 数据的大小"
   ]
  },
  {
   "cell_type": "code",
   "execution_count": 27,
   "id": "34473592",
   "metadata": {},
   "outputs": [
    {
     "data": {
      "text/plain": [
       "(4704, 4)"
      ]
     },
     "execution_count": 27,
     "metadata": {},
     "output_type": "execute_result"
    }
   ],
   "source": [
    "a = torch.randn(2, 3, 28, 28)\n",
    "\n",
    "a.numel(), a.dim()  # numel() 返回 tensor 占的内存"
   ]
  },
  {
   "cell_type": "markdown",
   "id": "17e4e59d",
   "metadata": {},
   "source": [
    "## 创建 tensor"
   ]
  },
  {
   "cell_type": "code",
   "execution_count": 28,
   "id": "c8fcf3ad",
   "metadata": {},
   "outputs": [
    {
     "data": {
      "text/plain": [
       "(tensor([2.0000, 3.3000], dtype=torch.float64),\n",
       " tensor([[1., 1., 1.],\n",
       "         [1., 1., 1.]], dtype=torch.float64))"
      ]
     },
     "execution_count": 28,
     "metadata": {},
     "output_type": "execute_result"
    }
   ],
   "source": [
    "# 从 numpy 中转换\n",
    "\n",
    "a = np.array([2, 3.3])\n",
    "b = torch.from_numpy(a)\n",
    "\n",
    "c = np.ones([2, 3])\n",
    "d = torch.from_numpy(c)\n",
    "\n",
    "b, d"
   ]
  },
  {
   "cell_type": "code",
   "execution_count": 29,
   "id": "108d729e",
   "metadata": {},
   "outputs": [
    {
     "data": {
      "text/plain": [
       "tensor([2, 3, 4])"
      ]
     },
     "execution_count": 29,
     "metadata": {},
     "output_type": "execute_result"
    }
   ],
   "source": [
    "# 从 list 中转换\n",
    "\n",
    "list = [2, 3, 4]\n",
    "a = torch.tensor(list)\n",
    "\n",
    "a"
   ]
  },
  {
   "cell_type": "markdown",
   "id": "ea64067c",
   "metadata": {},
   "source": [
    "### 创建未初始化的 tensor"
   ]
  },
  {
   "cell_type": "code",
   "execution_count": 30,
   "id": "c508fcff",
   "metadata": {},
   "outputs": [
    {
     "data": {
      "text/plain": [
       "tensor([[6.7406e+22, 2.6540e-09, 2.0804e+23],\n",
       "        [1.6764e+22, 6.7703e+22, 5.4883e-05]])"
      ]
     },
     "execution_count": 30,
     "metadata": {},
     "output_type": "execute_result"
    }
   ],
   "source": [
    "a = torch.empty([2, 3])\n",
    "a"
   ]
  },
  {
   "cell_type": "markdown",
   "id": "29e41c4a",
   "metadata": {},
   "source": [
    "### 创建随机 tensor"
   ]
  },
  {
   "cell_type": "code",
   "execution_count": 32,
   "id": "29ce05d1",
   "metadata": {},
   "outputs": [
    {
     "data": {
      "text/plain": [
       "torch.Size([3, 2, 5])"
      ]
     },
     "execution_count": 32,
     "metadata": {},
     "output_type": "execute_result"
    }
   ],
   "source": [
    "a = torch.randn([3, 2, 5])\n",
    "\n",
    "b = torch.rand_like(a)\n",
    "\n",
    "b.shape"
   ]
  },
  {
   "cell_type": "code",
   "execution_count": 33,
   "id": "1f88fb44",
   "metadata": {},
   "outputs": [
    {
     "data": {
      "text/plain": [
       "tensor([[9, 9, 9],\n",
       "        [2, 2, 9],\n",
       "        [4, 2, 5]])"
      ]
     },
     "execution_count": 33,
     "metadata": {},
     "output_type": "execute_result"
    }
   ],
   "source": [
    "a = torch.randint(1, 10, [3, 3])  # 生成的 tensor 范围：[1, 10), shape 为 [3, 3]\n",
    "\n",
    "a"
   ]
  },
  {
   "cell_type": "code",
   "execution_count": 39,
   "id": "8103a3fc",
   "metadata": {},
   "outputs": [
    {
     "data": {
      "text/plain": [
       "tensor([ 0.9925, -0.9006, -0.5114, -0.4418, -0.3699, -0.0488,  0.5707, -0.5671,\n",
       "        -0.1098, -0.0755])"
      ]
     },
     "execution_count": 39,
     "metadata": {},
     "output_type": "execute_result"
    }
   ],
   "source": [
    "# 自定义均值和方差\n",
    "\n",
    "a = torch.normal(mean=torch.full([10], 0.), std=torch.arange(1, 0., -0.1))\n",
    "a"
   ]
  },
  {
   "cell_type": "markdown",
   "id": "d9a3b301",
   "metadata": {},
   "source": [
    "### torch.full"
   ]
  },
  {
   "cell_type": "code",
   "execution_count": 40,
   "id": "d897904d",
   "metadata": {},
   "outputs": [
    {
     "data": {
      "text/plain": [
       "tensor([[5, 5, 5],\n",
       "        [5, 5, 5]])"
      ]
     },
     "execution_count": 40,
     "metadata": {},
     "output_type": "execute_result"
    }
   ],
   "source": [
    "torch.full([2, 3], 5)  # 把 tensor 全赋值为 5"
   ]
  },
  {
   "cell_type": "code",
   "execution_count": 41,
   "id": "c2d3fbd1",
   "metadata": {},
   "outputs": [
    {
     "data": {
      "text/plain": [
       "tensor(7.)"
      ]
     },
     "execution_count": 41,
     "metadata": {},
     "output_type": "execute_result"
    }
   ],
   "source": [
    "torch.full([], 7.)"
   ]
  },
  {
   "cell_type": "markdown",
   "id": "0b06ad68",
   "metadata": {},
   "source": [
    "### torch.arange"
   ]
  },
  {
   "cell_type": "code",
   "execution_count": 42,
   "id": "cac82e77",
   "metadata": {},
   "outputs": [
    {
     "data": {
      "text/plain": [
       "(tensor([1, 2, 3, 4, 5, 6, 7, 8, 9]), tensor([1, 3, 5, 7, 9]))"
      ]
     },
     "execution_count": 42,
     "metadata": {},
     "output_type": "execute_result"
    }
   ],
   "source": [
    "a = torch.arange(1, 10)\n",
    "b = torch.arange(1, 10, 2)\n",
    "\n",
    "a, b"
   ]
  },
  {
   "cell_type": "markdown",
   "id": "6d3d8fdd",
   "metadata": {},
   "source": [
    "### linspace/logspace"
   ]
  },
  {
   "cell_type": "code",
   "execution_count": 44,
   "id": "4b608525",
   "metadata": {},
   "outputs": [
    {
     "data": {
      "text/plain": [
       "(tensor([ 0.0000,  3.3333,  6.6667, 10.0000]),\n",
       " tensor([ 0.,  1.,  2.,  3.,  4.,  5.,  6.,  7.,  8.,  9., 10.]))"
      ]
     },
     "execution_count": 44,
     "metadata": {},
     "output_type": "execute_result"
    }
   ],
   "source": [
    "a = torch.linspace(0, 10, steps=4)  # 把 1~10 分为 4 份\n",
    "b = torch.linspace(0, 10, steps=11)\n",
    "\n",
    "a, b"
   ]
  },
  {
   "cell_type": "code",
   "execution_count": 50,
   "id": "4828e725",
   "metadata": {},
   "outputs": [
    {
     "data": {
      "text/plain": [
       "(tensor([ 1.0000,  1.2915,  1.6681,  2.1544,  2.7826,  3.5938,  4.6416,  5.9948,\n",
       "          7.7426, 10.0000]),\n",
       " tensor([1.0000, 0.7743, 0.5995, 0.4642, 0.3594, 0.2783, 0.2154, 0.1668, 0.1292,\n",
       "         0.1000]))"
      ]
     },
     "execution_count": 50,
     "metadata": {},
     "output_type": "execute_result"
    }
   ],
   "source": [
    "a = torch.logspace(0, 1, steps=10)  # 把 0~1 分为 10 份，然后返回 10^i\n",
    "b = torch.logspace(0, -1, steps=10)\n",
    "\n",
    "a, b"
   ]
  },
  {
   "cell_type": "markdown",
   "id": "37d57495",
   "metadata": {},
   "source": [
    "### ones, zeros, eye"
   ]
  },
  {
   "cell_type": "code",
   "execution_count": 52,
   "id": "15e8349b",
   "metadata": {},
   "outputs": [
    {
     "data": {
      "text/plain": [
       "(tensor([[1., 1., 1.],\n",
       "         [1., 1., 1.],\n",
       "         [1., 1., 1.]]),\n",
       " tensor([[0., 0., 0.],\n",
       "         [0., 0., 0.]]))"
      ]
     },
     "execution_count": 52,
     "metadata": {},
     "output_type": "execute_result"
    }
   ],
   "source": [
    "torch.ones([3, 3]), torch.zeros([2, 3])"
   ]
  },
  {
   "cell_type": "code",
   "execution_count": 55,
   "id": "2f002821",
   "metadata": {},
   "outputs": [
    {
     "data": {
      "text/plain": [
       "(tensor([[1., 0., 0.],\n",
       "         [0., 1., 0.]]),\n",
       " tensor([[1., 0., 0.],\n",
       "         [0., 1., 0.],\n",
       "         [0., 0., 1.]]))"
      ]
     },
     "execution_count": 55,
     "metadata": {},
     "output_type": "execute_result"
    }
   ],
   "source": [
    "torch.eye(2, 3), torch.eye(3)  # 对角线是 1"
   ]
  },
  {
   "cell_type": "markdown",
   "id": "57f8d69d",
   "metadata": {},
   "source": [
    "### 随机打散"
   ]
  },
  {
   "cell_type": "code",
   "execution_count": 56,
   "id": "c2ae70b3",
   "metadata": {},
   "outputs": [
    {
     "data": {
      "text/plain": [
       "tensor([4, 3, 5, 7, 9, 0, 2, 1, 8, 6])"
      ]
     },
     "execution_count": 56,
     "metadata": {},
     "output_type": "execute_result"
    }
   ],
   "source": [
    "torch.randperm(10)"
   ]
  },
  {
   "cell_type": "markdown",
   "id": "c04545f5",
   "metadata": {},
   "source": [
    "## tensor 索引与切片"
   ]
  },
  {
   "cell_type": "code",
   "execution_count": null,
   "id": "212c244f",
   "metadata": {},
   "outputs": [],
   "source": []
  }
 ],
 "metadata": {
  "kernelspec": {
   "display_name": "Python 3",
   "language": "python",
   "name": "python3"
  },
  "language_info": {
   "codemirror_mode": {
    "name": "ipython",
    "version": 3
   },
   "file_extension": ".py",
   "mimetype": "text/x-python",
   "name": "python",
   "nbconvert_exporter": "python",
   "pygments_lexer": "ipython3",
   "version": "3.7.10"
  }
 },
 "nbformat": 4,
 "nbformat_minor": 5
}
