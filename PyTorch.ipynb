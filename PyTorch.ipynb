{
 "cells": [
  {
   "cell_type": "code",
   "execution_count": 3,
   "id": "db8e91d9",
   "metadata": {},
   "outputs": [],
   "source": [
    "import torch"
   ]
  },
  {
   "cell_type": "markdown",
   "id": "d4e437e0",
   "metadata": {},
   "source": [
    "## 数据类型"
   ]
  },
  {
   "cell_type": "code",
   "execution_count": 6,
   "id": "a36692ac",
   "metadata": {},
   "outputs": [
    {
     "name": "stdout",
     "output_type": "stream",
     "text": [
      "torch.FloatTensor\n",
      "<class 'torch.Tensor'>\n",
      "True\n"
     ]
    }
   ],
   "source": [
    "# 类型\n",
    "a = torch.randn(2, 3)  # shape is [2, 3]\n",
    "\n",
    "print(a.type())\n",
    "print(type(a))\n",
    "print(isinstance(a, torch.FloatTensor))"
   ]
  },
  {
   "cell_type": "code",
   "execution_count": 7,
   "id": "934dfef3",
   "metadata": {},
   "outputs": [
    {
     "name": "stdout",
     "output_type": "stream",
     "text": [
      "False\n",
      "True\n"
     ]
    }
   ],
   "source": [
    "print(isinstance(a, torch.cuda.FloatTensor))  # 数据是 cpu 类型的\n",
    "\n",
    "a = a.cuda()  # 把数据变为 gpu 类型\n",
    "print(isinstance(a, torch.cuda.FloatTensor))"
   ]
  },
  {
   "cell_type": "markdown",
   "id": "9d8265ae",
   "metadata": {},
   "source": [
    "### 标量"
   ]
  },
  {
   "cell_type": "code",
   "execution_count": 8,
   "id": "198ceeca",
   "metadata": {},
   "outputs": [
    {
     "name": "stdout",
     "output_type": "stream",
     "text": [
      "tensor(1)\n",
      "tensor(1.3000)\n"
     ]
    }
   ],
   "source": [
    "a = torch.tensor(1)\n",
    "print(a)\n",
    "\n",
    "b = torch.tensor(1.300)\n",
    "print(b)"
   ]
  },
  {
   "cell_type": "markdown",
   "id": "68a01605",
   "metadata": {},
   "source": [
    "### 看 dim\n",
    "dim 和 shape 的区别：一个 [2, 3] 的 tensor，它的 shape 是 (2, 3)，它的 dim 是 2."
   ]
  },
  {
   "cell_type": "code",
   "execution_count": 12,
   "id": "6c51157b",
   "metadata": {},
   "outputs": [
    {
     "data": {
      "text/plain": [
       "(torch.Size([]), 0, torch.Size([]))"
      ]
     },
     "execution_count": 12,
     "metadata": {},
     "output_type": "execute_result"
    }
   ],
   "source": [
    "a = torch.tensor(2.5)\n",
    "a.shape, len(a.shape), a.size()"
   ]
  },
  {
   "cell_type": "code",
   "execution_count": 13,
   "id": "0e195bb2",
   "metadata": {},
   "outputs": [
    {
     "data": {
      "text/plain": [
       "(torch.Size([2, 3]), 2, torch.Size([2, 3]))"
      ]
     },
     "execution_count": 13,
     "metadata": {},
     "output_type": "execute_result"
    }
   ],
   "source": [
    "a = torch.randn(2, 3)\n",
    "a.shape, len(a.shape), a.size()"
   ]
  },
  {
   "cell_type": "code",
   "execution_count": 15,
   "id": "63ccd270",
   "metadata": {},
   "outputs": [
    {
     "data": {
      "text/plain": [
       "(tensor([2.3000, 1.0000]), torch.Size([2]), 1, torch.Size([2]))"
      ]
     },
     "execution_count": 15,
     "metadata": {},
     "output_type": "execute_result"
    }
   ],
   "source": [
    "a = torch.tensor([2.3, 1.])\n",
    "a, a.shape, len(a.shape), a.size()"
   ]
  },
  {
   "cell_type": "code",
   "execution_count": 17,
   "id": "63d8a302",
   "metadata": {},
   "outputs": [
    {
     "data": {
      "text/plain": [
       "(tensor([1.]), tensor([2., 3.]))"
      ]
     },
     "execution_count": 17,
     "metadata": {},
     "output_type": "execute_result"
    }
   ],
   "source": [
    "b = torch.FloatTensor([1])\n",
    "c = torch.FloatTensor([2, 3])\n",
    "\n",
    "b, c"
   ]
  },
  {
   "cell_type": "code",
   "execution_count": 18,
   "id": "2dcb137c",
   "metadata": {},
   "outputs": [
    {
     "data": {
      "text/plain": [
       "(array([1., 1.]), tensor([1., 1.], dtype=torch.float64))"
      ]
     },
     "execution_count": 18,
     "metadata": {},
     "output_type": "execute_result"
    }
   ],
   "source": [
    "import numpy as np\n",
    "\n",
    "data = np.ones(2)\n",
    "\n",
    "a = torch.from_numpy(data)\n",
    "\n",
    "data, a"
   ]
  },
  {
   "cell_type": "code",
   "execution_count": 19,
   "id": "a2e15678",
   "metadata": {},
   "outputs": [
    {
     "data": {
      "text/plain": [
       "tensor([1., 1.])"
      ]
     },
     "execution_count": 19,
     "metadata": {},
     "output_type": "execute_result"
    }
   ],
   "source": [
    "a = torch.ones(2)\n",
    "a"
   ]
  },
  {
   "cell_type": "code",
   "execution_count": 20,
   "id": "9daa1ed5",
   "metadata": {},
   "outputs": [
    {
     "data": {
      "text/plain": [
       "tensor([0., 0.])"
      ]
     },
     "execution_count": 20,
     "metadata": {},
     "output_type": "execute_result"
    }
   ],
   "source": [
    "a = torch.zeros(2)\n",
    "a"
   ]
  },
  {
   "cell_type": "code",
   "execution_count": 22,
   "id": "0a5fb377",
   "metadata": {},
   "outputs": [
    {
     "data": {
      "text/plain": [
       "(tensor([[0.8822, 0.4626, 0.6545],\n",
       "         [0.8265, 0.5604, 0.1371]]),\n",
       " 2,\n",
       " 3,\n",
       " 2,\n",
       " 3)"
      ]
     },
     "execution_count": 22,
     "metadata": {},
     "output_type": "execute_result"
    }
   ],
   "source": [
    "# shape 和 size 都可以索引\n",
    "a = torch.rand([2, 3])  # rand 和 randn，随机均匀分布，和随机正态分布\n",
    "\n",
    "a, a.shape[0], a.shape[1], a.size(0), a.size(1)"
   ]
  },
  {
   "cell_type": "code",
   "execution_count": 23,
   "id": "7d40870e",
   "metadata": {},
   "outputs": [
    {
     "data": {
      "text/plain": [
       "[2, 3, 4]"
      ]
     },
     "execution_count": 23,
     "metadata": {},
     "output_type": "execute_result"
    }
   ],
   "source": [
    "# list 可以直接返回一个 list\n",
    "\n",
    "a = torch.randn([2, 3, 4])\n",
    "list(a.shape)"
   ]
  },
  {
   "cell_type": "markdown",
   "id": "4a4c4ab4",
   "metadata": {},
   "source": [
    "### 得到 tensor 数据的大小"
   ]
  },
  {
   "cell_type": "code",
   "execution_count": 27,
   "id": "34473592",
   "metadata": {},
   "outputs": [
    {
     "data": {
      "text/plain": [
       "(4704, 4)"
      ]
     },
     "execution_count": 27,
     "metadata": {},
     "output_type": "execute_result"
    }
   ],
   "source": [
    "a = torch.randn(2, 3, 28, 28)\n",
    "\n",
    "a.numel(), a.dim()  # numel() 返回 tensor 占的内存"
   ]
  },
  {
   "cell_type": "markdown",
   "id": "17e4e59d",
   "metadata": {},
   "source": [
    "## 创建 tensor"
   ]
  },
  {
   "cell_type": "code",
   "execution_count": 28,
   "id": "c8fcf3ad",
   "metadata": {},
   "outputs": [
    {
     "data": {
      "text/plain": [
       "(tensor([2.0000, 3.3000], dtype=torch.float64),\n",
       " tensor([[1., 1., 1.],\n",
       "         [1., 1., 1.]], dtype=torch.float64))"
      ]
     },
     "execution_count": 28,
     "metadata": {},
     "output_type": "execute_result"
    }
   ],
   "source": [
    "# 从 numpy 中转换\n",
    "\n",
    "a = np.array([2, 3.3])\n",
    "b = torch.from_numpy(a)\n",
    "\n",
    "c = np.ones([2, 3])\n",
    "d = torch.from_numpy(c)\n",
    "\n",
    "b, d"
   ]
  },
  {
   "cell_type": "code",
   "execution_count": 29,
   "id": "108d729e",
   "metadata": {},
   "outputs": [
    {
     "data": {
      "text/plain": [
       "tensor([2, 3, 4])"
      ]
     },
     "execution_count": 29,
     "metadata": {},
     "output_type": "execute_result"
    }
   ],
   "source": [
    "# 从 list 中转换\n",
    "\n",
    "list = [2, 3, 4]\n",
    "a = torch.tensor(list)\n",
    "\n",
    "a"
   ]
  },
  {
   "cell_type": "markdown",
   "id": "ea64067c",
   "metadata": {},
   "source": [
    "### 创建未初始化的 tensor"
   ]
  },
  {
   "cell_type": "code",
   "execution_count": 30,
   "id": "c508fcff",
   "metadata": {},
   "outputs": [
    {
     "data": {
      "text/plain": [
       "tensor([[6.7406e+22, 2.6540e-09, 2.0804e+23],\n",
       "        [1.6764e+22, 6.7703e+22, 5.4883e-05]])"
      ]
     },
     "execution_count": 30,
     "metadata": {},
     "output_type": "execute_result"
    }
   ],
   "source": [
    "a = torch.empty([2, 3])\n",
    "a"
   ]
  },
  {
   "cell_type": "markdown",
   "id": "29e41c4a",
   "metadata": {},
   "source": [
    "### 创建随机 tensor"
   ]
  },
  {
   "cell_type": "code",
   "execution_count": 32,
   "id": "29ce05d1",
   "metadata": {},
   "outputs": [
    {
     "data": {
      "text/plain": [
       "torch.Size([3, 2, 5])"
      ]
     },
     "execution_count": 32,
     "metadata": {},
     "output_type": "execute_result"
    }
   ],
   "source": [
    "a = torch.randn([3, 2, 5])\n",
    "\n",
    "b = torch.rand_like(a)\n",
    "\n",
    "b.shape"
   ]
  },
  {
   "cell_type": "code",
   "execution_count": 33,
   "id": "1f88fb44",
   "metadata": {},
   "outputs": [
    {
     "data": {
      "text/plain": [
       "tensor([[9, 9, 9],\n",
       "        [2, 2, 9],\n",
       "        [4, 2, 5]])"
      ]
     },
     "execution_count": 33,
     "metadata": {},
     "output_type": "execute_result"
    }
   ],
   "source": [
    "a = torch.randint(1, 10, [3, 3])  # 生成的 tensor 范围：[1, 10), shape 为 [3, 3]\n",
    "\n",
    "a"
   ]
  },
  {
   "cell_type": "code",
   "execution_count": 39,
   "id": "8103a3fc",
   "metadata": {},
   "outputs": [
    {
     "data": {
      "text/plain": [
       "tensor([ 0.9925, -0.9006, -0.5114, -0.4418, -0.3699, -0.0488,  0.5707, -0.5671,\n",
       "        -0.1098, -0.0755])"
      ]
     },
     "execution_count": 39,
     "metadata": {},
     "output_type": "execute_result"
    }
   ],
   "source": [
    "# 自定义均值和方差\n",
    "\n",
    "a = torch.normal(mean=torch.full([10], 0.), std=torch.arange(1, 0., -0.1))\n",
    "a"
   ]
  },
  {
   "cell_type": "markdown",
   "id": "d9a3b301",
   "metadata": {},
   "source": [
    "### torch.full"
   ]
  },
  {
   "cell_type": "code",
   "execution_count": 40,
   "id": "d897904d",
   "metadata": {},
   "outputs": [
    {
     "data": {
      "text/plain": [
       "tensor([[5, 5, 5],\n",
       "        [5, 5, 5]])"
      ]
     },
     "execution_count": 40,
     "metadata": {},
     "output_type": "execute_result"
    }
   ],
   "source": [
    "torch.full([2, 3], 5)  # 把 tensor 全赋值为 5"
   ]
  },
  {
   "cell_type": "code",
   "execution_count": 41,
   "id": "c2d3fbd1",
   "metadata": {},
   "outputs": [
    {
     "data": {
      "text/plain": [
       "tensor(7.)"
      ]
     },
     "execution_count": 41,
     "metadata": {},
     "output_type": "execute_result"
    }
   ],
   "source": [
    "torch.full([], 7.)"
   ]
  },
  {
   "cell_type": "markdown",
   "id": "0b06ad68",
   "metadata": {},
   "source": [
    "### torch.arange"
   ]
  },
  {
   "cell_type": "code",
   "execution_count": 42,
   "id": "cac82e77",
   "metadata": {},
   "outputs": [
    {
     "data": {
      "text/plain": [
       "(tensor([1, 2, 3, 4, 5, 6, 7, 8, 9]), tensor([1, 3, 5, 7, 9]))"
      ]
     },
     "execution_count": 42,
     "metadata": {},
     "output_type": "execute_result"
    }
   ],
   "source": [
    "a = torch.arange(1, 10)\n",
    "b = torch.arange(1, 10, 2)\n",
    "\n",
    "a, b"
   ]
  },
  {
   "cell_type": "markdown",
   "id": "6d3d8fdd",
   "metadata": {},
   "source": [
    "### linspace/logspace"
   ]
  },
  {
   "cell_type": "code",
   "execution_count": 44,
   "id": "4b608525",
   "metadata": {},
   "outputs": [
    {
     "data": {
      "text/plain": [
       "(tensor([ 0.0000,  3.3333,  6.6667, 10.0000]),\n",
       " tensor([ 0.,  1.,  2.,  3.,  4.,  5.,  6.,  7.,  8.,  9., 10.]))"
      ]
     },
     "execution_count": 44,
     "metadata": {},
     "output_type": "execute_result"
    }
   ],
   "source": [
    "a = torch.linspace(0, 10, steps=4)  # 把 1~10 分为 4 份\n",
    "b = torch.linspace(0, 10, steps=11)\n",
    "\n",
    "a, b"
   ]
  },
  {
   "cell_type": "code",
   "execution_count": 50,
   "id": "4828e725",
   "metadata": {},
   "outputs": [
    {
     "data": {
      "text/plain": [
       "(tensor([ 1.0000,  1.2915,  1.6681,  2.1544,  2.7826,  3.5938,  4.6416,  5.9948,\n",
       "          7.7426, 10.0000]),\n",
       " tensor([1.0000, 0.7743, 0.5995, 0.4642, 0.3594, 0.2783, 0.2154, 0.1668, 0.1292,\n",
       "         0.1000]))"
      ]
     },
     "execution_count": 50,
     "metadata": {},
     "output_type": "execute_result"
    }
   ],
   "source": [
    "a = torch.logspace(0, 1, steps=10)  # 把 0~1 分为 10 份，然后返回 10^i\n",
    "b = torch.logspace(0, -1, steps=10)\n",
    "\n",
    "a, b"
   ]
  },
  {
   "cell_type": "markdown",
   "id": "37d57495",
   "metadata": {},
   "source": [
    "### ones, zeros, eye"
   ]
  },
  {
   "cell_type": "code",
   "execution_count": 52,
   "id": "15e8349b",
   "metadata": {},
   "outputs": [
    {
     "data": {
      "text/plain": [
       "(tensor([[1., 1., 1.],\n",
       "         [1., 1., 1.],\n",
       "         [1., 1., 1.]]),\n",
       " tensor([[0., 0., 0.],\n",
       "         [0., 0., 0.]]))"
      ]
     },
     "execution_count": 52,
     "metadata": {},
     "output_type": "execute_result"
    }
   ],
   "source": [
    "torch.ones([3, 3]), torch.zeros([2, 3])"
   ]
  },
  {
   "cell_type": "code",
   "execution_count": 55,
   "id": "2f002821",
   "metadata": {},
   "outputs": [
    {
     "data": {
      "text/plain": [
       "(tensor([[1., 0., 0.],\n",
       "         [0., 1., 0.]]),\n",
       " tensor([[1., 0., 0.],\n",
       "         [0., 1., 0.],\n",
       "         [0., 0., 1.]]))"
      ]
     },
     "execution_count": 55,
     "metadata": {},
     "output_type": "execute_result"
    }
   ],
   "source": [
    "torch.eye(2, 3), torch.eye(3)  # 对角线是 1"
   ]
  },
  {
   "cell_type": "markdown",
   "id": "57f8d69d",
   "metadata": {},
   "source": [
    "### 随机打散"
   ]
  },
  {
   "cell_type": "code",
   "execution_count": 56,
   "id": "c2ae70b3",
   "metadata": {},
   "outputs": [
    {
     "data": {
      "text/plain": [
       "tensor([4, 3, 5, 7, 9, 0, 2, 1, 8, 6])"
      ]
     },
     "execution_count": 56,
     "metadata": {},
     "output_type": "execute_result"
    }
   ],
   "source": [
    "torch.randperm(10)"
   ]
  },
  {
   "cell_type": "markdown",
   "id": "c04545f5",
   "metadata": {},
   "source": [
    "## tensor 索引与切片"
   ]
  },
  {
   "cell_type": "code",
   "execution_count": 4,
   "id": "212c244f",
   "metadata": {},
   "outputs": [
    {
     "data": {
      "text/plain": [
       "(torch.Size([3, 28, 28]), torch.Size([28, 28]), tensor(0.0545))"
      ]
     },
     "execution_count": 4,
     "metadata": {},
     "output_type": "execute_result"
    }
   ],
   "source": [
    "a = torch.randn(4, 3, 28, 28)\n",
    "\n",
    "a[0].shape, a[0, 0].shape, a[0, 0, 0, 0]"
   ]
  },
  {
   "cell_type": "markdown",
   "id": "ea8240ee",
   "metadata": {},
   "source": [
    "### 取连续的图片"
   ]
  },
  {
   "cell_type": "code",
   "execution_count": 6,
   "id": "f5e1a086",
   "metadata": {},
   "outputs": [
    {
     "data": {
      "text/plain": [
       "torch.Size([2, 1, 28, 28])"
      ]
     },
     "execution_count": 6,
     "metadata": {},
     "output_type": "execute_result"
    }
   ],
   "source": [
    "a = torch.rand(4, 3, 28, 28)\n",
    "\n",
    "a[:2, :1, :, :].shape"
   ]
  },
  {
   "cell_type": "markdown",
   "id": "c38e2e76",
   "metadata": {},
   "source": [
    "### 隔行采样"
   ]
  },
  {
   "cell_type": "code",
   "execution_count": 7,
   "id": "1a3d0a78",
   "metadata": {},
   "outputs": [
    {
     "data": {
      "text/plain": [
       "torch.Size([4, 3, 14, 14])"
      ]
     },
     "execution_count": 7,
     "metadata": {},
     "output_type": "execute_result"
    }
   ],
   "source": [
    "a = torch.rand(4, 3, 28, 28)\n",
    "\n",
    "a[:, :, 0:28:2, 0:28:2].shape"
   ]
  },
  {
   "cell_type": "markdown",
   "id": "49e2e218",
   "metadata": {},
   "source": [
    "### 选取指定的 index"
   ]
  },
  {
   "cell_type": "code",
   "execution_count": 18,
   "id": "9a68870f",
   "metadata": {},
   "outputs": [
    {
     "data": {
      "text/plain": [
       "(torch.Size([2, 3, 28, 28]), torch.Size([4, 3, 28, 10]))"
      ]
     },
     "execution_count": 18,
     "metadata": {},
     "output_type": "execute_result"
    }
   ],
   "source": [
    "a = torch.randn(4, 3, 28, 28)\n",
    "\n",
    "# 第一个参数是要操作的维度，第二个参数是 index\n",
    "a.index_select(0, torch.tensor([2, 3])).shape, a.index_select(3, torch.arange(10)).shape"
   ]
  },
  {
   "cell_type": "markdown",
   "id": "444dea4a",
   "metadata": {},
   "source": [
    "### ..."
   ]
  },
  {
   "cell_type": "code",
   "execution_count": 19,
   "id": "b89f5e3d",
   "metadata": {},
   "outputs": [
    {
     "data": {
      "text/plain": [
       "(torch.Size([4, 3, 28, 28]),\n",
       " torch.Size([3, 28, 28]),\n",
       " torch.Size([4, 28, 28]),\n",
       " torch.Size([4, 3, 28, 2]))"
      ]
     },
     "execution_count": 19,
     "metadata": {},
     "output_type": "execute_result"
    }
   ],
   "source": [
    "a = torch.randn(4, 3, 28, 28)\n",
    "\n",
    "a[...].shape, a[1, ...].shape, a[:, 1, ...].shape, a[..., :2].shape"
   ]
  },
  {
   "cell_type": "markdown",
   "id": "1e65a875",
   "metadata": {},
   "source": [
    "### 通过 mask 索引"
   ]
  },
  {
   "cell_type": "code",
   "execution_count": 20,
   "id": "c33daee2",
   "metadata": {},
   "outputs": [
    {
     "data": {
      "text/plain": [
       "tensor([[-1.1231, -0.7375,  0.4064,  0.7017],\n",
       "        [ 0.7530, -1.5781,  0.7586,  0.4149],\n",
       "        [-1.9955,  0.0544, -1.0234,  1.4162]])"
      ]
     },
     "execution_count": 20,
     "metadata": {},
     "output_type": "execute_result"
    }
   ],
   "source": [
    "x = torch.randn([3, 4])\n",
    "\n",
    "x"
   ]
  },
  {
   "cell_type": "code",
   "execution_count": 21,
   "id": "d2fa3838",
   "metadata": {},
   "outputs": [
    {
     "data": {
      "text/plain": [
       "tensor([[False, False, False,  True],\n",
       "        [ True, False,  True, False],\n",
       "        [False, False, False,  True]])"
      ]
     },
     "execution_count": 21,
     "metadata": {},
     "output_type": "execute_result"
    }
   ],
   "source": [
    "mask = x.ge(0.5)  # 大于 0.5 的为 true，否则为 false\n",
    "\n",
    "mask"
   ]
  },
  {
   "cell_type": "code",
   "execution_count": 23,
   "id": "c8447034",
   "metadata": {},
   "outputs": [
    {
     "data": {
      "text/plain": [
       "tensor([0.7017, 0.7530, 0.7586, 1.4162])"
      ]
     },
     "execution_count": 23,
     "metadata": {},
     "output_type": "execute_result"
    }
   ],
   "source": [
    "torch.masked_select(x, mask)  # 这个方法会把 tensor 打平"
   ]
  },
  {
   "cell_type": "markdown",
   "id": "20feca7a",
   "metadata": {},
   "source": [
    "### 通过 take 取元素"
   ]
  },
  {
   "cell_type": "code",
   "execution_count": 30,
   "id": "28ce59e8",
   "metadata": {},
   "outputs": [
    {
     "data": {
      "text/plain": [
       "tensor([[1, 2, 3],\n",
       "        [4, 5, 6]])"
      ]
     },
     "execution_count": 30,
     "metadata": {},
     "output_type": "execute_result"
    }
   ],
   "source": [
    "src = torch.tensor([[1, 2, 3], [4, 5, 6]])\n",
    "\n",
    "src"
   ]
  },
  {
   "cell_type": "code",
   "execution_count": 32,
   "id": "b3ce6189",
   "metadata": {},
   "outputs": [
    {
     "data": {
      "text/plain": [
       "tensor([1, 3, 4, 6])"
      ]
     },
     "execution_count": 32,
     "metadata": {},
     "output_type": "execute_result"
    }
   ],
   "source": [
    "torch.take(src, torch.tensor([0, 2, 3, 5]))  # 这个操作会先打平，再取元素"
   ]
  },
  {
   "cell_type": "markdown",
   "id": "a84384ac",
   "metadata": {},
   "source": [
    "## 维度变换"
   ]
  },
  {
   "cell_type": "markdown",
   "id": "10539573",
   "metadata": {},
   "source": [
    "### view /  reshape"
   ]
  },
  {
   "cell_type": "code",
   "execution_count": 34,
   "id": "1a7884ee",
   "metadata": {},
   "outputs": [
    {
     "data": {
      "text/plain": [
       "(torch.Size([4, 784]), torch.Size([3136]))"
      ]
     },
     "execution_count": 34,
     "metadata": {},
     "output_type": "execute_result"
    }
   ],
   "source": [
    "a = torch.rand([4, 1, 28, 28])\n",
    "\n",
    "a.view(4, -1).shape, a.reshape(4*28*28).shape"
   ]
  },
  {
   "cell_type": "markdown",
   "id": "75e4c3a3",
   "metadata": {},
   "source": [
    "### unsqueeze"
   ]
  },
  {
   "cell_type": "code",
   "execution_count": 37,
   "id": "a6f1b58c",
   "metadata": {},
   "outputs": [
    {
     "data": {
      "text/plain": [
       "(torch.Size([1, 4, 1, 28, 28]), torch.Size([4, 1, 1, 28, 28]))"
      ]
     },
     "execution_count": 37,
     "metadata": {},
     "output_type": "execute_result"
    }
   ],
   "source": [
    "a = torch.randn([4, 1, 28, 28])\n",
    "\n",
    "a.unsqueeze(0).shape, a.unsqueeze(-3).shape  # 增加一个维度，如果索引为正，在索引前插入；如果索引为负，在索引后插入"
   ]
  },
  {
   "cell_type": "code",
   "execution_count": 41,
   "id": "43c379d2",
   "metadata": {},
   "outputs": [
    {
     "data": {
      "text/plain": [
       "(tensor([[1.2000],\n",
       "         [2.3000]]),\n",
       " tensor([[1.2000, 2.3000]]))"
      ]
     },
     "execution_count": 41,
     "metadata": {},
     "output_type": "execute_result"
    }
   ],
   "source": [
    "x = torch.tensor([1.2, 2.3])\n",
    "\n",
    "x.unsqueeze(-1), x.unsqueeze(0)"
   ]
  },
  {
   "cell_type": "markdown",
   "id": "6651f5dd",
   "metadata": {},
   "source": [
    "### squeeze"
   ]
  },
  {
   "cell_type": "code",
   "execution_count": 42,
   "id": "1e397db1",
   "metadata": {},
   "outputs": [
    {
     "data": {
      "text/plain": [
       "(torch.Size([32, 1, 1]), torch.Size([1, 32, 1, 1]), torch.Size([1, 32, 1]))"
      ]
     },
     "execution_count": 42,
     "metadata": {},
     "output_type": "execute_result"
    }
   ],
   "source": [
    "b = torch.rand([1, 32, 1, 1])\n",
    "\n",
    "b.squeeze(0).shape, b.squeeze(1).shape, b.squeeze(-1).shape  # 把维度为 1 的挤压掉"
   ]
  },
  {
   "cell_type": "markdown",
   "id": "d6629ff1",
   "metadata": {},
   "source": [
    "### expand & repeat"
   ]
  },
  {
   "cell_type": "code",
   "execution_count": 47,
   "id": "3741cb62",
   "metadata": {},
   "outputs": [
    {
     "data": {
      "text/plain": [
       "(torch.Size([4, 32, 14, 14]), torch.Size([1, 32, 1, 1]))"
      ]
     },
     "execution_count": 47,
     "metadata": {},
     "output_type": "execute_result"
    }
   ],
   "source": [
    "a = torch.rand([1, 32, 1, 1])\n",
    "\n",
    "a.expand(4, 32, 14, 14).shape, a.expand(-1, 32, -1, -1).shape  # 扩展 tensor，-1 表示不变"
   ]
  },
  {
   "cell_type": "code",
   "execution_count": 49,
   "id": "810314d4",
   "metadata": {},
   "outputs": [
    {
     "data": {
      "text/plain": [
       "torch.Size([4, 32, 14, 14])"
      ]
     },
     "execution_count": 49,
     "metadata": {},
     "output_type": "execute_result"
    }
   ],
   "source": [
    "b = torch.rand([1, 32 ,1, 1])\n",
    "\n",
    "b.repeat(4, 1, 14, 14).shape  # repeat 中参数表示该维度要复制的次数，1 表示不复制"
   ]
  },
  {
   "cell_type": "markdown",
   "id": "7b9f0c47",
   "metadata": {},
   "source": [
    "### 转置"
   ]
  },
  {
   "cell_type": "code",
   "execution_count": 5,
   "id": "6e252d70",
   "metadata": {},
   "outputs": [
    {
     "data": {
      "text/plain": [
       "torch.Size([4, 3])"
      ]
     },
     "execution_count": 5,
     "metadata": {},
     "output_type": "execute_result"
    }
   ],
   "source": [
    "a = torch.randn([3, 4])\n",
    "\n",
    "a.t().shape"
   ]
  },
  {
   "cell_type": "code",
   "execution_count": 6,
   "id": "c48446de",
   "metadata": {},
   "outputs": [
    {
     "data": {
      "text/plain": [
       "torch.Size([4, 14, 14, 3])"
      ]
     },
     "execution_count": 6,
     "metadata": {},
     "output_type": "execute_result"
    }
   ],
   "source": [
    "a = torch.randn([4, 3, 14, 14])\n",
    "\n",
    "a.transpose(1, 3).shape  # 维度 1 和 3 交换"
   ]
  },
  {
   "cell_type": "markdown",
   "id": "d70eeaf1",
   "metadata": {},
   "source": [
    "### 转置与恢复\n",
    "\n",
    "有时需要恢复转置后的数据为原来的数据"
   ]
  },
  {
   "cell_type": "code",
   "execution_count": 13,
   "id": "7be9d551",
   "metadata": {},
   "outputs": [
    {
     "data": {
      "text/plain": [
       "tensor(True)"
      ]
     },
     "execution_count": 13,
     "metadata": {},
     "output_type": "execute_result"
    }
   ],
   "source": [
    "a = torch.rand([4, 3, 32, 32])\n",
    "\n",
    "a1 = a.transpose(1, 3).contiguous().reshape(4, 3*32*32).reshape(4, 32, 32, 3).transpose(1, 3)\n",
    "# transpose 后，由于数据储存格式改变，内存会变得不连续，用 contiguous 使其连续\n",
    "\n",
    "torch.all(torch.eq(a, a1))  # eq 可以比较两个 tensor 内相同位置元素是否相等，all 用来判断括号内是否所以 evaluate 都为 true"
   ]
  },
  {
   "cell_type": "markdown",
   "id": "8a9797ef",
   "metadata": {},
   "source": [
    "### permute"
   ]
  },
  {
   "cell_type": "code",
   "execution_count": 14,
   "id": "80b5c1b8",
   "metadata": {},
   "outputs": [
    {
     "data": {
      "text/plain": [
       "torch.Size([4, 3, 28, 28])"
      ]
     },
     "execution_count": 14,
     "metadata": {},
     "output_type": "execute_result"
    }
   ],
   "source": [
    "a = torch.rand([28, 28, 3, 4])\n",
    "\n",
    "a.permute(3, 2, 0, 1).shape  # "
   ]
  },
  {
   "cell_type": "markdown",
   "id": "9e983686",
   "metadata": {},
   "source": [
    "## 合并与分割"
   ]
  },
  {
   "cell_type": "code",
   "execution_count": 15,
   "id": "8a9825f8",
   "metadata": {},
   "outputs": [
    {
     "data": {
      "text/plain": [
       "torch.Size([9, 32, 8])"
      ]
     },
     "execution_count": 15,
     "metadata": {},
     "output_type": "execute_result"
    }
   ],
   "source": [
    "a = torch.rand([5, 32, 8])\n",
    "b = torch.rand([4, 32, 8])\n",
    "\n",
    "torch.cat([a, b], dim=0).shape  # cat 可以将两个 tensor 合并，dim 指定在哪个维度进行合并"
   ]
  },
  {
   "cell_type": "code",
   "execution_count": 16,
   "id": "27b7969f",
   "metadata": {},
   "outputs": [
    {
     "data": {
      "text/plain": [
       "torch.Size([2, 32, 32])"
      ]
     },
     "execution_count": 16,
     "metadata": {},
     "output_type": "execute_result"
    }
   ],
   "source": [
    "a = torch.rand([32, 32])\n",
    "b = torch.rand([32, 32])\n",
    "\n",
    "torch.stack([a, b], dim=0).shape  # stack 也是将 tensor 合并，但会在前面增加一个新的维度"
   ]
  },
  {
   "cell_type": "code",
   "execution_count": 18,
   "id": "e6353dbf",
   "metadata": {},
   "outputs": [
    {
     "data": {
      "text/plain": [
       "(torch.Size([1, 32, 8]), torch.Size([1, 32, 8]), torch.Size([1, 32, 8]))"
      ]
     },
     "execution_count": 18,
     "metadata": {},
     "output_type": "execute_result"
    }
   ],
   "source": [
    "a = torch.rand([3, 32, 8])\n",
    "\n",
    "x = a.split(1, dim=0)  # split 可以将 tensor 拆分，左边是在维度 0 上进行拆分，每个拆分后的 tensor 0 维度为 1\n",
    "x[0].shape, x[1].shape, x[2].shape"
   ]
  },
  {
   "cell_type": "code",
   "execution_count": 19,
   "id": "d91b46c4",
   "metadata": {},
   "outputs": [
    {
     "data": {
      "text/plain": [
       "(torch.Size([1, 32, 8]), torch.Size([2, 32, 8]))"
      ]
     },
     "execution_count": 19,
     "metadata": {},
     "output_type": "execute_result"
    }
   ],
   "source": [
    "a = torch.rand([3, 32, 8])\n",
    "\n",
    "x = a.split([1, 2], dim=0)  # split 的另一种用法，在维度 0 上进行拆分，按 [1, 2] 的比例拆\n",
    "x[0].shape, x[1].shape"
   ]
  },
  {
   "cell_type": "code",
   "execution_count": 20,
   "id": "04e45930",
   "metadata": {},
   "outputs": [
    {
     "data": {
      "text/plain": [
       "(torch.Size([2, 32, 8]), torch.Size([1, 32, 8]))"
      ]
     },
     "execution_count": 20,
     "metadata": {},
     "output_type": "execute_result"
    }
   ],
   "source": [
    "a = torch.rand([3, 32, 8])\n",
    "\n",
    "x = a.chunk(2, dim=0)  # chunk 是按数量来拆分，2 意为拆成两个\n",
    "x[0].shape, x[1].shape"
   ]
  },
  {
   "cell_type": "markdown",
   "id": "b0086157",
   "metadata": {},
   "source": [
    "## 数学运算"
   ]
  },
  {
   "cell_type": "markdown",
   "id": "e1af13cf",
   "metadata": {},
   "source": [
    "### 低维 加减乘除"
   ]
  },
  {
   "cell_type": "code",
   "execution_count": 21,
   "id": "b46a119d",
   "metadata": {},
   "outputs": [],
   "source": [
    "a = torch.rand(3, 4)\n",
    "b = torch.rand(4)"
   ]
  },
  {
   "cell_type": "code",
   "execution_count": 22,
   "id": "e32b8803",
   "metadata": {},
   "outputs": [
    {
     "data": {
      "text/plain": [
       "(tensor([[0.7902, 1.2367, 1.0963, 0.8027],\n",
       "         [0.9721, 1.1580, 1.7847, 0.4547],\n",
       "         [0.9436, 0.9703, 1.3344, 0.2798]]),\n",
       " tensor([[0.7902, 1.2367, 1.0963, 0.8027],\n",
       "         [0.9721, 1.1580, 1.7847, 0.4547],\n",
       "         [0.9436, 0.9703, 1.3344, 0.2798]]))"
      ]
     },
     "execution_count": 22,
     "metadata": {},
     "output_type": "execute_result"
    }
   ],
   "source": [
    "a + b, torch.add(a, b)  # 以下都是相同位置的元素互相进行运算"
   ]
  },
  {
   "cell_type": "code",
   "execution_count": 23,
   "id": "fc4d13cc",
   "metadata": {},
   "outputs": [
    {
     "data": {
      "text/plain": [
       "(tensor([[ 0.2212,  0.1102, -0.7583,  0.3798],\n",
       "         [ 0.4031,  0.0315, -0.0700,  0.0318],\n",
       "         [ 0.3746, -0.1562, -0.5202, -0.1431]]),\n",
       " tensor([[ 0.2212,  0.1102, -0.7583,  0.3798],\n",
       "         [ 0.4031,  0.0315, -0.0700,  0.0318],\n",
       "         [ 0.3746, -0.1562, -0.5202, -0.1431]]))"
      ]
     },
     "execution_count": 23,
     "metadata": {},
     "output_type": "execute_result"
    }
   ],
   "source": [
    "a - b, torch.sub(a, b)"
   ]
  },
  {
   "cell_type": "code",
   "execution_count": 24,
   "id": "89ae4673",
   "metadata": {},
   "outputs": [
    {
     "data": {
      "text/plain": [
       "(tensor([[0.1439, 0.3793, 0.1567, 0.1250],\n",
       "         [0.1956, 0.3350, 0.7950, 0.0514],\n",
       "         [0.1875, 0.2293, 0.3775, 0.0144]]),\n",
       " tensor([[0.1439, 0.3793, 0.1567, 0.1250],\n",
       "         [0.1956, 0.3350, 0.7950, 0.0514],\n",
       "         [0.1875, 0.2293, 0.3775, 0.0144]]))"
      ]
     },
     "execution_count": 24,
     "metadata": {},
     "output_type": "execute_result"
    }
   ],
   "source": [
    "a * b, torch.mul(a, b)"
   ]
  },
  {
   "cell_type": "code",
   "execution_count": 25,
   "id": "2722568b",
   "metadata": {},
   "outputs": [
    {
     "data": {
      "text/plain": [
       "(tensor([[1.7774, 1.1957, 0.1823, 2.7961],\n",
       "         [2.4167, 1.0559, 0.9245, 1.1504],\n",
       "         [2.3166, 0.7227, 0.4390, 0.3231]]),\n",
       " tensor([[1.7774, 1.1957, 0.1823, 2.7961],\n",
       "         [2.4167, 1.0559, 0.9245, 1.1504],\n",
       "         [2.3166, 0.7227, 0.4390, 0.3231]]))"
      ]
     },
     "execution_count": 25,
     "metadata": {},
     "output_type": "execute_result"
    }
   ],
   "source": [
    "a / b, torch.div(a, b)"
   ]
  },
  {
   "cell_type": "markdown",
   "id": "e8df9cbe",
   "metadata": {},
   "source": [
    "### matmul"
   ]
  },
  {
   "cell_type": "code",
   "execution_count": 29,
   "id": "3fd24ef7",
   "metadata": {},
   "outputs": [
    {
     "data": {
      "text/plain": [
       "(tensor([[3., 3.],\n",
       "         [3., 3.]]),\n",
       " tensor([[1., 1.],\n",
       "         [1., 1.]]))"
      ]
     },
     "execution_count": 29,
     "metadata": {},
     "output_type": "execute_result"
    }
   ],
   "source": [
    "a = torch.tensor([[3., 3.], [3., 3.]])\n",
    "b = torch.ones(2, 2)\n",
    "\n",
    "a, b"
   ]
  },
  {
   "cell_type": "code",
   "execution_count": 30,
   "id": "49790b98",
   "metadata": {},
   "outputs": [
    {
     "data": {
      "text/plain": [
       "(tensor([[3., 3.],\n",
       "         [3., 3.]]),\n",
       " tensor([[6., 6.],\n",
       "         [6., 6.]]),\n",
       " tensor([[6., 6.],\n",
       "         [6., 6.]]),\n",
       " tensor([[6., 6.],\n",
       "         [6., 6.]]))"
      ]
     },
     "execution_count": 30,
     "metadata": {},
     "output_type": "execute_result"
    }
   ],
   "source": [
    "a * b, a @ b, torch.mm(a, b), torch.matmul(a, b)  # 后三个都是矩阵运算，推荐使用 matmul"
   ]
  },
  {
   "cell_type": "code",
   "execution_count": 31,
   "id": "6550a2c6",
   "metadata": {},
   "outputs": [
    {
     "data": {
      "text/plain": [
       "torch.Size([4, 3, 28, 32])"
      ]
     },
     "execution_count": 31,
     "metadata": {},
     "output_type": "execute_result"
    }
   ],
   "source": [
    "a = torch.rand([4, 3, 28, 64])\n",
    "b = torch.rand([4, 3, 64, 32])\n",
    "\n",
    "torch.matmul(a, b).shape  # 对于多 tensor，只计算后两维"
   ]
  },
  {
   "cell_type": "code",
   "execution_count": 32,
   "id": "addbe8fa",
   "metadata": {},
   "outputs": [
    {
     "data": {
      "text/plain": [
       "torch.Size([4, 3, 28, 32])"
      ]
     },
     "execution_count": 32,
     "metadata": {},
     "output_type": "execute_result"
    }
   ],
   "source": [
    "a = torch.rand([4, 3, 28, 64])\n",
    "b = torch.rand([4, 1, 64, 32])  # broadcast => [4, 3, 64, 32]\n",
    "\n",
    "torch.matmul(a, b).shape  # broadcast 的应用"
   ]
  },
  {
   "cell_type": "markdown",
   "id": "1a9f31af",
   "metadata": {},
   "source": [
    "### 平方 & 开方"
   ]
  },
  {
   "cell_type": "code",
   "execution_count": 39,
   "id": "4cac83a2",
   "metadata": {},
   "outputs": [
    {
     "data": {
      "text/plain": [
       "tensor([[9., 9.],\n",
       "        [9., 9.]])"
      ]
     },
     "execution_count": 39,
     "metadata": {},
     "output_type": "execute_result"
    }
   ],
   "source": [
    "a = torch.full([2, 2], 9.)\n",
    "\n",
    "a"
   ]
  },
  {
   "cell_type": "code",
   "execution_count": 40,
   "id": "cda13905",
   "metadata": {},
   "outputs": [
    {
     "data": {
      "text/plain": [
       "(tensor([[81., 81.],\n",
       "         [81., 81.]]),\n",
       " tensor([[81., 81.],\n",
       "         [81., 81.]]))"
      ]
     },
     "execution_count": 40,
     "metadata": {},
     "output_type": "execute_result"
    }
   ],
   "source": [
    "a.pow(2), a ** 2"
   ]
  },
  {
   "cell_type": "code",
   "execution_count": 41,
   "id": "88b6cf43",
   "metadata": {},
   "outputs": [
    {
     "data": {
      "text/plain": [
       "(tensor([[3., 3.],\n",
       "         [3., 3.]]),\n",
       " tensor([[3., 3.],\n",
       "         [3., 3.]]))"
      ]
     },
     "execution_count": 41,
     "metadata": {},
     "output_type": "execute_result"
    }
   ],
   "source": [
    "a.sqrt(), a ** 0.5"
   ]
  },
  {
   "cell_type": "code",
   "execution_count": 43,
   "id": "5b0411b1",
   "metadata": {},
   "outputs": [
    {
     "data": {
      "text/plain": [
       "(tensor([[9., 9.],\n",
       "         [9., 9.]]),\n",
       " tensor([[0.3333, 0.3333],\n",
       "         [0.3333, 0.3333]]))"
      ]
     },
     "execution_count": 43,
     "metadata": {},
     "output_type": "execute_result"
    }
   ],
   "source": [
    "a.rsqrt()  # rsqrt() 是取平方根后再取倒数，9 ** 0.5 = 3， 1 / 3 = 0.3333"
   ]
  },
  {
   "cell_type": "markdown",
   "id": "7478a7d1",
   "metadata": {},
   "source": [
    "### 指数和对数"
   ]
  },
  {
   "cell_type": "code",
   "execution_count": 44,
   "id": "e1937815",
   "metadata": {},
   "outputs": [
    {
     "data": {
      "text/plain": [
       "tensor([[2.7183, 2.7183],\n",
       "        [2.7183, 2.7183]])"
      ]
     },
     "execution_count": 44,
     "metadata": {},
     "output_type": "execute_result"
    }
   ],
   "source": [
    "a = torch.ones(2, 2)\n",
    "torch.exp(a)  # exp 表示 e 的指数，e ^ 1 = e = 2.7183"
   ]
  },
  {
   "cell_type": "code",
   "execution_count": 46,
   "id": "9a7f6713",
   "metadata": {},
   "outputs": [
    {
     "data": {
      "text/plain": [
       "tensor([[1., 1.],\n",
       "        [1., 1.]])"
      ]
     },
     "execution_count": 46,
     "metadata": {},
     "output_type": "execute_result"
    }
   ],
   "source": [
    "a = torch.exp(torch.ones(2, 2))\n",
    "\n",
    "torch.log(a)  # log(a) 是以 e 为底的 a 的对数"
   ]
  },
  {
   "cell_type": "code",
   "execution_count": 47,
   "id": "55e3c685",
   "metadata": {},
   "outputs": [
    {
     "data": {
      "text/plain": [
       "tensor([[3., 3.],\n",
       "        [3., 3.]])"
      ]
     },
     "execution_count": 47,
     "metadata": {},
     "output_type": "execute_result"
    }
   ],
   "source": [
    "a = torch.full([2, 2], 8.)\n",
    "b = torch.full([2, 2], 2.)\n",
    "\n",
    "torch.log(a) / torch.log(b)  # 要想求以其他数为底的对数，loga b / loga c = logc b, 8 = 2 ^ 3"
   ]
  },
  {
   "cell_type": "markdown",
   "id": "b8cae5e5",
   "metadata": {},
   "source": [
    "### approximation"
   ]
  },
  {
   "cell_type": "code",
   "execution_count": 49,
   "id": "1ec16e32",
   "metadata": {},
   "outputs": [
    {
     "data": {
      "text/plain": [
       "(tensor(3.), tensor(4.), tensor(3.), tensor(0.1400), tensor(3.))"
      ]
     },
     "execution_count": 49,
     "metadata": {},
     "output_type": "execute_result"
    }
   ],
   "source": [
    "a = torch.tensor(3.14)\n",
    "\n",
    "a.floor(), a.ceil(), a.trunc(), a.frac(), a.round()  \n",
    "# floor：向下取整，ceil：向上取整，trunc：取整数部分，frac：取小数部分, round：四舍五入"
   ]
  },
  {
   "cell_type": "markdown",
   "id": "9d625e31",
   "metadata": {},
   "source": [
    "### clamp\n",
    "\n",
    "主要用于对梯度裁剪"
   ]
  },
  {
   "cell_type": "code",
   "execution_count": 53,
   "id": "c1f657e4",
   "metadata": {},
   "outputs": [
    {
     "data": {
      "text/plain": [
       "(tensor([[ 9.3713,  5.5154, 10.2777],\n",
       "         [ 9.5479,  8.3216,  6.8333]]),\n",
       " tensor(10.2777),\n",
       " tensor(8.3216))"
      ]
     },
     "execution_count": 53,
     "metadata": {},
     "output_type": "execute_result"
    }
   ],
   "source": [
    "grad = torch.rand([2, 3]) * 15  # 放大 15 倍\n",
    "\n",
    "grad, grad.max(), grad.median()  # 最大值 和 中位数"
   ]
  },
  {
   "cell_type": "code",
   "execution_count": 54,
   "id": "31ac3b23",
   "metadata": {},
   "outputs": [
    {
     "data": {
      "text/plain": [
       "tensor([[10.0000, 10.0000, 10.2777],\n",
       "        [10.0000, 10.0000, 10.0000]])"
      ]
     },
     "execution_count": 54,
     "metadata": {},
     "output_type": "execute_result"
    }
   ],
   "source": [
    "grad.clamp(10)  # 限定最小值为 10"
   ]
  },
  {
   "cell_type": "code",
   "execution_count": 56,
   "id": "e21c5345",
   "metadata": {},
   "outputs": [
    {
     "data": {
      "text/plain": [
       "tensor([[ 9.3713,  5.5154, 10.0000],\n",
       "        [ 9.5479,  8.3216,  6.8333]])"
      ]
     },
     "execution_count": 56,
     "metadata": {},
     "output_type": "execute_result"
    }
   ],
   "source": [
    "grad.clamp(0, 10)  # 限制在 0 ~ 10"
   ]
  },
  {
   "cell_type": "code",
   "execution_count": null,
   "id": "a05f4ea5",
   "metadata": {},
   "outputs": [],
   "source": []
  }
 ],
 "metadata": {
  "kernelspec": {
   "display_name": "Python 3",
   "language": "python",
   "name": "python3"
  },
  "language_info": {
   "codemirror_mode": {
    "name": "ipython",
    "version": 3
   },
   "file_extension": ".py",
   "mimetype": "text/x-python",
   "name": "python",
   "nbconvert_exporter": "python",
   "pygments_lexer": "ipython3",
   "version": "3.7.10"
  }
 },
 "nbformat": 4,
 "nbformat_minor": 5
}
